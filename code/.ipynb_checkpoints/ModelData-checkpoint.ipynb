{
 "cells": [
  {
   "cell_type": "markdown",
   "metadata": {},
   "source": [
    "# Gather & Process Model Outputs:"
   ]
  },
  {
   "cell_type": "markdown",
   "metadata": {},
   "source": [
    "# Load data from .dat"
   ]
  },
  {
   "cell_type": "markdown",
   "metadata": {},
   "source": [
    "Read run00 .dat from model output files\n",
    "\n",
    "Outputs: Data_.nc (model outputs); Topo_.nc (topography from Plot_Model); Out_.nc (processed data: transports, variables along circuit...)"
   ]
  },
  {
   "cell_type": "code",
   "execution_count": 19,
   "metadata": {},
   "outputs": [],
   "source": [
    "# %matplotlib notebook\n",
    "%matplotlib inline\n",
    "import numpy as np\n",
    "import pandas as pd\n",
    "import xarray as xr\n",
    "import scipy as sp\n",
    "import matplotlib.pyplot as plt\n",
    "import scipy.io as sio\n",
    "import io\n",
    "\n",
    "from dask.diagnostics import ProgressBar"
   ]
  },
  {
   "cell_type": "code",
   "execution_count": 20,
   "metadata": {},
   "outputs": [],
   "source": [
    "# put which experiment do we want to extract data from\n",
    "Expnum = '5' \n",
    "datafilepath = '/Volumes/GeneralBackup/backup_20210627/Desktop/WORK/MODEL/Onelayer/try5/Par_1_largedomain/'"
   ]
  },
  {
   "cell_type": "code",
   "execution_count": 21,
   "metadata": {},
   "outputs": [],
   "source": [
    "# path to model outputs\n",
    "\n",
    "datafilename = 'run00' + Expnum + '.dat'\n",
    "\n",
    "# path to model topography \n",
    "Topo_filepath = datafilepath\n",
    "Topo_filename = 'Topo_' + Expnum + '.nc'\n",
    "\n",
    "# # path to circuit\n",
    "# Circuit_filepath = '/Users/tantanmeow/MODEL/Onelayer/try4/para/wide_wideisland_nodiff/'\n",
    "# Circuit_filename = 'circuit.mat'\n",
    "# #how many data in circuit; S1 locate; S2 locate; S3 locate\n",
    "# S = [228, 0, 114, -1] \n",
    "\n",
    "# # path to Gill's prediction\n",
    "# Gill_path = '/Users/tantanmeow/WORK/2018-2019/Samoan/STan/GillMod/'\n",
    "# Gill_name = 'Gill_predict.mat'\n",
    "\n",
    "# path to saved data\n",
    "outfilepath = datafilepath\n",
    "\n",
    "Data_filename = 'Data_' + Expnum + '.nc'\n",
    "Out_filename = 'Out_' + Expnum + '.nc'\n"
   ]
  },
  {
   "cell_type": "markdown",
   "metadata": {},
   "source": [
    "NOTICE: here we ignore the fact that h and u/v are not at the same grid!"
   ]
  },
  {
   "cell_type": "code",
   "execution_count": 22,
   "metadata": {},
   "outputs": [],
   "source": [
    "# python function equavalent to the Matlab's code 'fread'\n",
    " # by Nick from Stackoverflow: \n",
    " # https://stackoverflow.com/questions/34026326/ensuring-python-equivalence-of-matlabs-fread\n",
    "\n",
    "def fread(fid, nelements, dtype):\n",
    "     if dtype is np.str:\n",
    "         dt = np.uint8  # WARNING: assuming 8-bit ASCII for np.str!\n",
    "     else:\n",
    "         dt = dtype\n",
    "\n",
    "     data_array = np.fromfile(fid, dt, nelements)\n",
    "     data_array.shape = (nelements, 1)\n",
    "\n",
    "     return data_array\n"
   ]
  },
  {
   "cell_type": "code",
   "execution_count": 23,
   "metadata": {},
   "outputs": [],
   "source": [
    "# read binary data from a .dat file\n",
    "\n",
    "def Onelayer_modeloutput(filepath, filename):\n",
    "    \n",
    "    runid = filepath + filename\n",
    "    \n",
    "    fid = open(runid,'rb') # 'rb' is for binary data\n",
    "    #'r', encoding='unicode_escape')# ISO-8859-1\n",
    "    \n",
    "    # read all the initial information\n",
    "    hr1    = fread(fid, 1, np.int32);\n",
    "    nout   = fread(fid, 1, np.int32);\n",
    "    tend   = fread(fid, 1, np.float64);\n",
    "    hr1    = fread(fid, 1, np.int32);\n",
    "    hr1    = fread(fid, 1, np.int32);\n",
    "    mx     = fread(fid, 1, np.int32);\n",
    "    my     = fread(fid, 1, np.int32);\n",
    "    meqn   = fread(fid, 1, np.int32);\n",
    "    mbc    = fread(fid, 1, np.int32);\n",
    "    sx     = fread(fid, 1, np.int32);\n",
    "    ex     = fread(fid, 1, np.int32);\n",
    "    sy     = fread(fid, 1, np.int32);\n",
    "    ey     = fread(fid, 1, np.int32);  \n",
    "    hr1    = fread(fid, 1, np.int32);\n",
    "    hr1    = fread(fid, 1, np.int32);\n",
    "    dt     = fread(fid, 1, np.float64);\n",
    "    dx     = fread(fid, 1, np.float64);\n",
    "    dy     = fread(fid, 1, np.float64);\n",
    "    gamma  = fread(fid, 1, np.float64);\n",
    "    cf     = fread(fid, 1, np.float64);\n",
    "    cb     = fread(fid, 1, np.float64);  \n",
    "    y1     = fread(fid, 1, np.float64);  \n",
    "    hr1    = fread(fid, 1, np.int32);\n",
    "    hr1    = fread(fid, 1, np.int32);\n",
    "    ixbc   = fread(fid, 1, np.int32);\n",
    "    iybc   = fread(fid, 1, np.int32);\n",
    "    hr1    = fread(fid, 1, np.int32);\n",
    "    hr1  = fread(fid, 1, np.int32);\n",
    "    x    = fread(fid, mx.tolist()[0][0], np.float64); # ndarray to int\n",
    "    hr1  = fread(fid, 1, np.int32);\n",
    "    hr1  = fread(fid, 1, np.int32);\n",
    "    y    = fread(fid, my.tolist()[0][0], np.float64);\n",
    "    hr1  = fread(fid, 1, np.int32);\n",
    "    hr1  = fread(fid, 1, np.int32);\n",
    "    b    = fread(fid, mx.tolist()[0][0]*my.tolist()[0][0], np.float64);\n",
    "    hr1  = fread(fid, 1, np.int32);\n",
    "    hr1  = fread(fid, 1, np.int32);\n",
    "    cbxy = fread(fid, mx.tolist()[0][0]*my.tolist()[0][0], np.float64);\n",
    "    hr1  = fread(fid, 1, np.int32);\n",
    "\n",
    "    x    = np.reshape(x, (mx.tolist()[0][0], 1))\n",
    "    y    = np.reshape(y, (my.tolist()[0][0], 1))\n",
    "    b    = np.reshape(b, (my.tolist()[0][0], mx.tolist()[0][0]))\n",
    "    cbxy = np.reshape(cbxy, (my.tolist()[0][0], mx.tolist()[0][0]))\n",
    "    \n",
    "    x0 = x[0] - dx/2\n",
    "    xf = x[-1] + dx/2\n",
    "    y0 = y[0] - dy/2\n",
    "    yf = y[-1] + dy/2\n",
    "    \n",
    "    H = np.zeros((nout.tolist()[0][0] + 1\n",
    "                  , my.tolist()[0][0], mx.tolist()[0][0]))\n",
    "    U = np.zeros((nout.tolist()[0][0] + 1\n",
    "                  , my.tolist()[0][0], mx.tolist()[0][0]))\n",
    "    V = np.zeros((nout.tolist()[0][0] + 1\n",
    "                  , my.tolist()[0][0], mx.tolist()[0][0]))\n",
    "    B    = np.zeros((my.tolist()[0][0], mx.tolist()[0][0]))\n",
    "    CB   = np.zeros((my.tolist()[0][0], mx.tolist()[0][0]))\n",
    "    tim  = np.zeros((nout.tolist()[0][0] + 1, 1))\n",
    "    \n",
    "    # start to read modeloutputs that matters\n",
    "    for i in range(nout.tolist()[0][0] + 1):\n",
    "        # ** read the h, Qu, Qv fields *****************\n",
    "        hr1 = fread(fid, 1, np.int32);\n",
    "        t   = fread(fid, 1, np.float64);\n",
    "        hr1 = fread(fid, 1, np.int32);\n",
    "        hr1 = fread(fid, 1, np.int32);\n",
    "        h   = fread(fid, my.tolist()[0][0]*mx.tolist()[0][0], np.float64);\n",
    "        hr1 = fread(fid, 1, np.int32);\n",
    "        hr1 = fread(fid, 1, np.int32);\n",
    "        qu  = fread(fid, my.tolist()[0][0]*mx.tolist()[0][0], np.float64);\n",
    "        hr1 = fread(fid, 1, np.int32);\n",
    "        hr1 = fread(fid, 1, np.int32);\n",
    "        qv  = fread(fid, my.tolist()[0][0]*mx.tolist()[0][0], np.float64);\n",
    "        hr1 = fread(fid, 1, np.int32);\n",
    "        # ******************************************\n",
    "  \n",
    "        h   = np.reshape(h, (my.tolist()[0][0], mx.tolist()[0][0]))\n",
    "        qu  = np.reshape(qu, (my.tolist()[0][0], mx.tolist()[0][0]))\n",
    "        qv  = np.reshape(qv, (my.tolist()[0][0], mx.tolist()[0][0])) \n",
    "        u = qu/h\n",
    "        v = qv/h\n",
    "#         u[h<1e-3] = 0.0\n",
    "#         v[h<1e-3] = 0.0\n",
    "#         h[h<1e-3] = 0.0\n",
    "        tim[i] = t\n",
    "        H[i::] = h\n",
    "        U[i::] = u\n",
    "        V[i::] = v  \n",
    "     \n",
    "    fid.close()\n",
    "    \n",
    "    # build DataArray\n",
    "\n",
    "    H = xr.DataArray(H, dims=['time', 'y', 'x'], \n",
    "                    coords={'time':np.squeeze(tim), \n",
    "                            'y': np.squeeze(y), \n",
    "                            'x': np.squeeze(x)},\n",
    "                    attrs={'long_name':'Layer Thickness'})\n",
    "    U = xr.DataArray(U, dims=['time', 'y', 'x'], \n",
    "                    coords={'time':np.squeeze(tim), \n",
    "                            'y': np.squeeze(y), \n",
    "                            'x': np.squeeze(x)},\n",
    "                    attrs={'long_name':'Down-to-up Velocity'})\n",
    "    V = xr.DataArray(V, dims=['time', 'y', 'x'], \n",
    "                    coords={'time':np.squeeze(tim), \n",
    "                            'y': np.squeeze(y), \n",
    "                            'x': np.squeeze(x)},\n",
    "                    attrs={'long_name':'Right-to-left Velocity'})    \n",
    "    B = xr.DataArray(b, dims=['y', 'x'], \n",
    "                    coords={'y': np.squeeze(y), \n",
    "                            'x': np.squeeze(x)},\n",
    "                    attrs={'long_name':'Bottom Elevation'})\n",
    "    CB = xr.DataArray(cbxy, dims=['y', 'x'], \n",
    "                      coords={'y': np.squeeze(y), \n",
    "                              'x': np.squeeze(x)},\n",
    "                      attrs={'long_name':'Friction coefficient'})\n",
    "    \n",
    "    # build Dataset\n",
    "    data = xr.Dataset({'H': (['time', 'y', 'x'], H),\n",
    "                       'U': (['time', 'y', 'x'], U),\n",
    "                       'V': (['time', 'y', 'x'], V),\n",
    "                       'B': (['y', 'x'], B),\n",
    "                      'CB': (['y', 'x'], CB)},\n",
    "                     coords={'time': np.squeeze(tim),\n",
    "                            'y': np.squeeze(y),\n",
    "                            'x': np.squeeze(x)},\n",
    "                     attrs={'title':'Outputs from nondimensional model',\n",
    "                           'description':'Scales: H~1000 m; L~30 km; T~0.6 d; x -'})\n",
    "\n",
    "    return data"
   ]
  },
  {
   "cell_type": "code",
   "execution_count": 24,
   "metadata": {},
   "outputs": [],
   "source": [
    "# read data from .dat\n",
    "\n",
    "Data = Onelayer_modeloutput(datafilepath, datafilename)\n"
   ]
  },
  {
   "cell_type": "code",
   "execution_count": 25,
   "metadata": {},
   "outputs": [
    {
     "ename": "PermissionError",
     "evalue": "[Errno 13] Permission denied: b'/Volumes/GeneralBackup/backup_20210627/Desktop/WORK/MODEL/Onelayer/try5/Par_1_largedomain/Data_5.nc'",
     "output_type": "error",
     "traceback": [
      "\u001b[0;31m---------------------------------------------------------------------------\u001b[0m",
      "\u001b[0;31mKeyError\u001b[0m                                  Traceback (most recent call last)",
      "\u001b[0;32m~/anaconda3/lib/python3.7/site-packages/xarray/backends/file_manager.py\u001b[0m in \u001b[0;36m_acquire_with_cache_info\u001b[0;34m(self, needs_lock)\u001b[0m\n\u001b[1;32m    197\u001b[0m             \u001b[0;32mtry\u001b[0m\u001b[0;34m:\u001b[0m\u001b[0;34m\u001b[0m\u001b[0;34m\u001b[0m\u001b[0m\n\u001b[0;32m--> 198\u001b[0;31m                 \u001b[0mfile\u001b[0m \u001b[0;34m=\u001b[0m \u001b[0mself\u001b[0m\u001b[0;34m.\u001b[0m\u001b[0m_cache\u001b[0m\u001b[0;34m[\u001b[0m\u001b[0mself\u001b[0m\u001b[0;34m.\u001b[0m\u001b[0m_key\u001b[0m\u001b[0;34m]\u001b[0m\u001b[0;34m\u001b[0m\u001b[0;34m\u001b[0m\u001b[0m\n\u001b[0m\u001b[1;32m    199\u001b[0m             \u001b[0;32mexcept\u001b[0m \u001b[0mKeyError\u001b[0m\u001b[0;34m:\u001b[0m\u001b[0;34m\u001b[0m\u001b[0;34m\u001b[0m\u001b[0m\n",
      "\u001b[0;32m~/anaconda3/lib/python3.7/site-packages/xarray/backends/lru_cache.py\u001b[0m in \u001b[0;36m__getitem__\u001b[0;34m(self, key)\u001b[0m\n\u001b[1;32m     52\u001b[0m         \u001b[0;32mwith\u001b[0m \u001b[0mself\u001b[0m\u001b[0;34m.\u001b[0m\u001b[0m_lock\u001b[0m\u001b[0;34m:\u001b[0m\u001b[0;34m\u001b[0m\u001b[0;34m\u001b[0m\u001b[0m\n\u001b[0;32m---> 53\u001b[0;31m             \u001b[0mvalue\u001b[0m \u001b[0;34m=\u001b[0m \u001b[0mself\u001b[0m\u001b[0;34m.\u001b[0m\u001b[0m_cache\u001b[0m\u001b[0;34m[\u001b[0m\u001b[0mkey\u001b[0m\u001b[0;34m]\u001b[0m\u001b[0;34m\u001b[0m\u001b[0;34m\u001b[0m\u001b[0m\n\u001b[0m\u001b[1;32m     54\u001b[0m             \u001b[0mself\u001b[0m\u001b[0;34m.\u001b[0m\u001b[0m_cache\u001b[0m\u001b[0;34m.\u001b[0m\u001b[0mmove_to_end\u001b[0m\u001b[0;34m(\u001b[0m\u001b[0mkey\u001b[0m\u001b[0;34m)\u001b[0m\u001b[0;34m\u001b[0m\u001b[0;34m\u001b[0m\u001b[0m\n",
      "\u001b[0;31mKeyError\u001b[0m: [<class 'netCDF4._netCDF4.Dataset'>, ('/Volumes/GeneralBackup/backup_20210627/Desktop/WORK/MODEL/Onelayer/try5/Par_1_largedomain/Data_5.nc',), 'a', (('clobber', True), ('diskless', False), ('format', 'NETCDF4'), ('persist', False))]",
      "\nDuring handling of the above exception, another exception occurred:\n",
      "\u001b[0;31mPermissionError\u001b[0m                           Traceback (most recent call last)",
      "\u001b[0;32m<ipython-input-25-c3b5addbda31>\u001b[0m in \u001b[0;36m<module>\u001b[0;34m\u001b[0m\n\u001b[1;32m      1\u001b[0m \u001b[0;31m# save thy data\u001b[0m\u001b[0;34m\u001b[0m\u001b[0;34m\u001b[0m\u001b[0;34m\u001b[0m\u001b[0m\n\u001b[1;32m      2\u001b[0m \u001b[0;34m\u001b[0m\u001b[0m\n\u001b[0;32m----> 3\u001b[0;31m \u001b[0mData\u001b[0m\u001b[0;34m.\u001b[0m\u001b[0mto_netcdf\u001b[0m\u001b[0;34m(\u001b[0m\u001b[0moutfilepath\u001b[0m \u001b[0;34m+\u001b[0m \u001b[0mData_filename\u001b[0m\u001b[0;34m,\u001b[0m \u001b[0mmode\u001b[0m\u001b[0;34m=\u001b[0m\u001b[0;34m'w'\u001b[0m\u001b[0;34m)\u001b[0m\u001b[0;34m\u001b[0m\u001b[0;34m\u001b[0m\u001b[0m\n\u001b[0m",
      "\u001b[0;32m~/anaconda3/lib/python3.7/site-packages/xarray/core/dataset.py\u001b[0m in \u001b[0;36mto_netcdf\u001b[0;34m(self, path, mode, format, group, engine, encoding, unlimited_dims, compute, invalid_netcdf)\u001b[0m\n\u001b[1;32m   1545\u001b[0m             \u001b[0munlimited_dims\u001b[0m\u001b[0;34m=\u001b[0m\u001b[0munlimited_dims\u001b[0m\u001b[0;34m,\u001b[0m\u001b[0;34m\u001b[0m\u001b[0;34m\u001b[0m\u001b[0m\n\u001b[1;32m   1546\u001b[0m             \u001b[0mcompute\u001b[0m\u001b[0;34m=\u001b[0m\u001b[0mcompute\u001b[0m\u001b[0;34m,\u001b[0m\u001b[0;34m\u001b[0m\u001b[0;34m\u001b[0m\u001b[0m\n\u001b[0;32m-> 1547\u001b[0;31m             \u001b[0minvalid_netcdf\u001b[0m\u001b[0;34m=\u001b[0m\u001b[0minvalid_netcdf\u001b[0m\u001b[0;34m,\u001b[0m\u001b[0;34m\u001b[0m\u001b[0;34m\u001b[0m\u001b[0m\n\u001b[0m\u001b[1;32m   1548\u001b[0m         )\n\u001b[1;32m   1549\u001b[0m \u001b[0;34m\u001b[0m\u001b[0m\n",
      "\u001b[0;32m~/anaconda3/lib/python3.7/site-packages/xarray/backends/api.py\u001b[0m in \u001b[0;36mto_netcdf\u001b[0;34m(dataset, path_or_file, mode, format, group, engine, encoding, unlimited_dims, compute, multifile, invalid_netcdf)\u001b[0m\n\u001b[1;32m   1053\u001b[0m                 \u001b[0;34m\"unrecognized option 'invalid_netcdf' for engine %s\"\u001b[0m \u001b[0;34m%\u001b[0m \u001b[0mengine\u001b[0m\u001b[0;34m\u001b[0m\u001b[0;34m\u001b[0m\u001b[0m\n\u001b[1;32m   1054\u001b[0m             )\n\u001b[0;32m-> 1055\u001b[0;31m     \u001b[0mstore\u001b[0m \u001b[0;34m=\u001b[0m \u001b[0mstore_open\u001b[0m\u001b[0;34m(\u001b[0m\u001b[0mtarget\u001b[0m\u001b[0;34m,\u001b[0m \u001b[0mmode\u001b[0m\u001b[0;34m,\u001b[0m \u001b[0mformat\u001b[0m\u001b[0;34m,\u001b[0m \u001b[0mgroup\u001b[0m\u001b[0;34m,\u001b[0m \u001b[0;34m**\u001b[0m\u001b[0mkwargs\u001b[0m\u001b[0;34m)\u001b[0m\u001b[0;34m\u001b[0m\u001b[0;34m\u001b[0m\u001b[0m\n\u001b[0m\u001b[1;32m   1056\u001b[0m \u001b[0;34m\u001b[0m\u001b[0m\n\u001b[1;32m   1057\u001b[0m     \u001b[0;32mif\u001b[0m \u001b[0munlimited_dims\u001b[0m \u001b[0;32mis\u001b[0m \u001b[0;32mNone\u001b[0m\u001b[0;34m:\u001b[0m\u001b[0;34m\u001b[0m\u001b[0;34m\u001b[0m\u001b[0m\n",
      "\u001b[0;32m~/anaconda3/lib/python3.7/site-packages/xarray/backends/netCDF4_.py\u001b[0m in \u001b[0;36mopen\u001b[0;34m(cls, filename, mode, format, group, clobber, diskless, persist, lock, lock_maker, autoclose)\u001b[0m\n\u001b[1;32m    355\u001b[0m             \u001b[0mnetCDF4\u001b[0m\u001b[0;34m.\u001b[0m\u001b[0mDataset\u001b[0m\u001b[0;34m,\u001b[0m \u001b[0mfilename\u001b[0m\u001b[0;34m,\u001b[0m \u001b[0mmode\u001b[0m\u001b[0;34m=\u001b[0m\u001b[0mmode\u001b[0m\u001b[0;34m,\u001b[0m \u001b[0mkwargs\u001b[0m\u001b[0;34m=\u001b[0m\u001b[0mkwargs\u001b[0m\u001b[0;34m\u001b[0m\u001b[0;34m\u001b[0m\u001b[0m\n\u001b[1;32m    356\u001b[0m         )\n\u001b[0;32m--> 357\u001b[0;31m         \u001b[0;32mreturn\u001b[0m \u001b[0mcls\u001b[0m\u001b[0;34m(\u001b[0m\u001b[0mmanager\u001b[0m\u001b[0;34m,\u001b[0m \u001b[0mgroup\u001b[0m\u001b[0;34m=\u001b[0m\u001b[0mgroup\u001b[0m\u001b[0;34m,\u001b[0m \u001b[0mmode\u001b[0m\u001b[0;34m=\u001b[0m\u001b[0mmode\u001b[0m\u001b[0;34m,\u001b[0m \u001b[0mlock\u001b[0m\u001b[0;34m=\u001b[0m\u001b[0mlock\u001b[0m\u001b[0;34m,\u001b[0m \u001b[0mautoclose\u001b[0m\u001b[0;34m=\u001b[0m\u001b[0mautoclose\u001b[0m\u001b[0;34m)\u001b[0m\u001b[0;34m\u001b[0m\u001b[0;34m\u001b[0m\u001b[0m\n\u001b[0m\u001b[1;32m    358\u001b[0m \u001b[0;34m\u001b[0m\u001b[0m\n\u001b[1;32m    359\u001b[0m     \u001b[0;32mdef\u001b[0m \u001b[0m_acquire\u001b[0m\u001b[0;34m(\u001b[0m\u001b[0mself\u001b[0m\u001b[0;34m,\u001b[0m \u001b[0mneeds_lock\u001b[0m\u001b[0;34m=\u001b[0m\u001b[0;32mTrue\u001b[0m\u001b[0;34m)\u001b[0m\u001b[0;34m:\u001b[0m\u001b[0;34m\u001b[0m\u001b[0;34m\u001b[0m\u001b[0m\n",
      "\u001b[0;32m~/anaconda3/lib/python3.7/site-packages/xarray/backends/netCDF4_.py\u001b[0m in \u001b[0;36m__init__\u001b[0;34m(self, manager, group, mode, lock, autoclose)\u001b[0m\n\u001b[1;32m    311\u001b[0m         \u001b[0mself\u001b[0m\u001b[0;34m.\u001b[0m\u001b[0m_group\u001b[0m \u001b[0;34m=\u001b[0m \u001b[0mgroup\u001b[0m\u001b[0;34m\u001b[0m\u001b[0;34m\u001b[0m\u001b[0m\n\u001b[1;32m    312\u001b[0m         \u001b[0mself\u001b[0m\u001b[0;34m.\u001b[0m\u001b[0m_mode\u001b[0m \u001b[0;34m=\u001b[0m \u001b[0mmode\u001b[0m\u001b[0;34m\u001b[0m\u001b[0;34m\u001b[0m\u001b[0m\n\u001b[0;32m--> 313\u001b[0;31m         \u001b[0mself\u001b[0m\u001b[0;34m.\u001b[0m\u001b[0mformat\u001b[0m \u001b[0;34m=\u001b[0m \u001b[0mself\u001b[0m\u001b[0;34m.\u001b[0m\u001b[0mds\u001b[0m\u001b[0;34m.\u001b[0m\u001b[0mdata_model\u001b[0m\u001b[0;34m\u001b[0m\u001b[0;34m\u001b[0m\u001b[0m\n\u001b[0m\u001b[1;32m    314\u001b[0m         \u001b[0mself\u001b[0m\u001b[0;34m.\u001b[0m\u001b[0m_filename\u001b[0m \u001b[0;34m=\u001b[0m \u001b[0mself\u001b[0m\u001b[0;34m.\u001b[0m\u001b[0mds\u001b[0m\u001b[0;34m.\u001b[0m\u001b[0mfilepath\u001b[0m\u001b[0;34m(\u001b[0m\u001b[0;34m)\u001b[0m\u001b[0;34m\u001b[0m\u001b[0;34m\u001b[0m\u001b[0m\n\u001b[1;32m    315\u001b[0m         \u001b[0mself\u001b[0m\u001b[0;34m.\u001b[0m\u001b[0mis_remote\u001b[0m \u001b[0;34m=\u001b[0m \u001b[0mis_remote_uri\u001b[0m\u001b[0;34m(\u001b[0m\u001b[0mself\u001b[0m\u001b[0;34m.\u001b[0m\u001b[0m_filename\u001b[0m\u001b[0;34m)\u001b[0m\u001b[0;34m\u001b[0m\u001b[0;34m\u001b[0m\u001b[0m\n",
      "\u001b[0;32m~/anaconda3/lib/python3.7/site-packages/xarray/backends/netCDF4_.py\u001b[0m in \u001b[0;36mds\u001b[0;34m(self)\u001b[0m\n\u001b[1;32m    364\u001b[0m     \u001b[0;34m@\u001b[0m\u001b[0mproperty\u001b[0m\u001b[0;34m\u001b[0m\u001b[0;34m\u001b[0m\u001b[0m\n\u001b[1;32m    365\u001b[0m     \u001b[0;32mdef\u001b[0m \u001b[0mds\u001b[0m\u001b[0;34m(\u001b[0m\u001b[0mself\u001b[0m\u001b[0;34m)\u001b[0m\u001b[0;34m:\u001b[0m\u001b[0;34m\u001b[0m\u001b[0;34m\u001b[0m\u001b[0m\n\u001b[0;32m--> 366\u001b[0;31m         \u001b[0;32mreturn\u001b[0m \u001b[0mself\u001b[0m\u001b[0;34m.\u001b[0m\u001b[0m_acquire\u001b[0m\u001b[0;34m(\u001b[0m\u001b[0;34m)\u001b[0m\u001b[0;34m\u001b[0m\u001b[0;34m\u001b[0m\u001b[0m\n\u001b[0m\u001b[1;32m    367\u001b[0m \u001b[0;34m\u001b[0m\u001b[0m\n\u001b[1;32m    368\u001b[0m     \u001b[0;32mdef\u001b[0m \u001b[0mopen_store_variable\u001b[0m\u001b[0;34m(\u001b[0m\u001b[0mself\u001b[0m\u001b[0;34m,\u001b[0m \u001b[0mname\u001b[0m\u001b[0;34m,\u001b[0m \u001b[0mvar\u001b[0m\u001b[0;34m)\u001b[0m\u001b[0;34m:\u001b[0m\u001b[0;34m\u001b[0m\u001b[0;34m\u001b[0m\u001b[0m\n",
      "\u001b[0;32m~/anaconda3/lib/python3.7/site-packages/xarray/backends/netCDF4_.py\u001b[0m in \u001b[0;36m_acquire\u001b[0;34m(self, needs_lock)\u001b[0m\n\u001b[1;32m    358\u001b[0m \u001b[0;34m\u001b[0m\u001b[0m\n\u001b[1;32m    359\u001b[0m     \u001b[0;32mdef\u001b[0m \u001b[0m_acquire\u001b[0m\u001b[0;34m(\u001b[0m\u001b[0mself\u001b[0m\u001b[0;34m,\u001b[0m \u001b[0mneeds_lock\u001b[0m\u001b[0;34m=\u001b[0m\u001b[0;32mTrue\u001b[0m\u001b[0;34m)\u001b[0m\u001b[0;34m:\u001b[0m\u001b[0;34m\u001b[0m\u001b[0;34m\u001b[0m\u001b[0m\n\u001b[0;32m--> 360\u001b[0;31m         \u001b[0;32mwith\u001b[0m \u001b[0mself\u001b[0m\u001b[0;34m.\u001b[0m\u001b[0m_manager\u001b[0m\u001b[0;34m.\u001b[0m\u001b[0macquire_context\u001b[0m\u001b[0;34m(\u001b[0m\u001b[0mneeds_lock\u001b[0m\u001b[0;34m)\u001b[0m \u001b[0;32mas\u001b[0m \u001b[0mroot\u001b[0m\u001b[0;34m:\u001b[0m\u001b[0;34m\u001b[0m\u001b[0;34m\u001b[0m\u001b[0m\n\u001b[0m\u001b[1;32m    361\u001b[0m             \u001b[0mds\u001b[0m \u001b[0;34m=\u001b[0m \u001b[0m_nc4_require_group\u001b[0m\u001b[0;34m(\u001b[0m\u001b[0mroot\u001b[0m\u001b[0;34m,\u001b[0m \u001b[0mself\u001b[0m\u001b[0;34m.\u001b[0m\u001b[0m_group\u001b[0m\u001b[0;34m,\u001b[0m \u001b[0mself\u001b[0m\u001b[0;34m.\u001b[0m\u001b[0m_mode\u001b[0m\u001b[0;34m)\u001b[0m\u001b[0;34m\u001b[0m\u001b[0;34m\u001b[0m\u001b[0m\n\u001b[1;32m    362\u001b[0m         \u001b[0;32mreturn\u001b[0m \u001b[0mds\u001b[0m\u001b[0;34m\u001b[0m\u001b[0;34m\u001b[0m\u001b[0m\n",
      "\u001b[0;32m~/anaconda3/lib/python3.7/contextlib.py\u001b[0m in \u001b[0;36m__enter__\u001b[0;34m(self)\u001b[0m\n\u001b[1;32m    110\u001b[0m         \u001b[0;32mdel\u001b[0m \u001b[0mself\u001b[0m\u001b[0;34m.\u001b[0m\u001b[0margs\u001b[0m\u001b[0;34m,\u001b[0m \u001b[0mself\u001b[0m\u001b[0;34m.\u001b[0m\u001b[0mkwds\u001b[0m\u001b[0;34m,\u001b[0m \u001b[0mself\u001b[0m\u001b[0;34m.\u001b[0m\u001b[0mfunc\u001b[0m\u001b[0;34m\u001b[0m\u001b[0;34m\u001b[0m\u001b[0m\n\u001b[1;32m    111\u001b[0m         \u001b[0;32mtry\u001b[0m\u001b[0;34m:\u001b[0m\u001b[0;34m\u001b[0m\u001b[0;34m\u001b[0m\u001b[0m\n\u001b[0;32m--> 112\u001b[0;31m             \u001b[0;32mreturn\u001b[0m \u001b[0mnext\u001b[0m\u001b[0;34m(\u001b[0m\u001b[0mself\u001b[0m\u001b[0;34m.\u001b[0m\u001b[0mgen\u001b[0m\u001b[0;34m)\u001b[0m\u001b[0;34m\u001b[0m\u001b[0;34m\u001b[0m\u001b[0m\n\u001b[0m\u001b[1;32m    113\u001b[0m         \u001b[0;32mexcept\u001b[0m \u001b[0mStopIteration\u001b[0m\u001b[0;34m:\u001b[0m\u001b[0;34m\u001b[0m\u001b[0;34m\u001b[0m\u001b[0m\n\u001b[1;32m    114\u001b[0m             \u001b[0;32mraise\u001b[0m \u001b[0mRuntimeError\u001b[0m\u001b[0;34m(\u001b[0m\u001b[0;34m\"generator didn't yield\"\u001b[0m\u001b[0;34m)\u001b[0m \u001b[0;32mfrom\u001b[0m \u001b[0;32mNone\u001b[0m\u001b[0;34m\u001b[0m\u001b[0;34m\u001b[0m\u001b[0m\n",
      "\u001b[0;32m~/anaconda3/lib/python3.7/site-packages/xarray/backends/file_manager.py\u001b[0m in \u001b[0;36macquire_context\u001b[0;34m(self, needs_lock)\u001b[0m\n\u001b[1;32m    184\u001b[0m     \u001b[0;32mdef\u001b[0m \u001b[0macquire_context\u001b[0m\u001b[0;34m(\u001b[0m\u001b[0mself\u001b[0m\u001b[0;34m,\u001b[0m \u001b[0mneeds_lock\u001b[0m\u001b[0;34m=\u001b[0m\u001b[0;32mTrue\u001b[0m\u001b[0;34m)\u001b[0m\u001b[0;34m:\u001b[0m\u001b[0;34m\u001b[0m\u001b[0;34m\u001b[0m\u001b[0m\n\u001b[1;32m    185\u001b[0m         \u001b[0;34m\"\"\"Context manager for acquiring a file.\"\"\"\u001b[0m\u001b[0;34m\u001b[0m\u001b[0;34m\u001b[0m\u001b[0m\n\u001b[0;32m--> 186\u001b[0;31m         \u001b[0mfile\u001b[0m\u001b[0;34m,\u001b[0m \u001b[0mcached\u001b[0m \u001b[0;34m=\u001b[0m \u001b[0mself\u001b[0m\u001b[0;34m.\u001b[0m\u001b[0m_acquire_with_cache_info\u001b[0m\u001b[0;34m(\u001b[0m\u001b[0mneeds_lock\u001b[0m\u001b[0;34m)\u001b[0m\u001b[0;34m\u001b[0m\u001b[0;34m\u001b[0m\u001b[0m\n\u001b[0m\u001b[1;32m    187\u001b[0m         \u001b[0;32mtry\u001b[0m\u001b[0;34m:\u001b[0m\u001b[0;34m\u001b[0m\u001b[0;34m\u001b[0m\u001b[0m\n\u001b[1;32m    188\u001b[0m             \u001b[0;32myield\u001b[0m \u001b[0mfile\u001b[0m\u001b[0;34m\u001b[0m\u001b[0;34m\u001b[0m\u001b[0m\n",
      "\u001b[0;32m~/anaconda3/lib/python3.7/site-packages/xarray/backends/file_manager.py\u001b[0m in \u001b[0;36m_acquire_with_cache_info\u001b[0;34m(self, needs_lock)\u001b[0m\n\u001b[1;32m    202\u001b[0m                     \u001b[0mkwargs\u001b[0m \u001b[0;34m=\u001b[0m \u001b[0mkwargs\u001b[0m\u001b[0;34m.\u001b[0m\u001b[0mcopy\u001b[0m\u001b[0;34m(\u001b[0m\u001b[0;34m)\u001b[0m\u001b[0;34m\u001b[0m\u001b[0;34m\u001b[0m\u001b[0m\n\u001b[1;32m    203\u001b[0m                     \u001b[0mkwargs\u001b[0m\u001b[0;34m[\u001b[0m\u001b[0;34m\"mode\"\u001b[0m\u001b[0;34m]\u001b[0m \u001b[0;34m=\u001b[0m \u001b[0mself\u001b[0m\u001b[0;34m.\u001b[0m\u001b[0m_mode\u001b[0m\u001b[0;34m\u001b[0m\u001b[0;34m\u001b[0m\u001b[0m\n\u001b[0;32m--> 204\u001b[0;31m                 \u001b[0mfile\u001b[0m \u001b[0;34m=\u001b[0m \u001b[0mself\u001b[0m\u001b[0;34m.\u001b[0m\u001b[0m_opener\u001b[0m\u001b[0;34m(\u001b[0m\u001b[0;34m*\u001b[0m\u001b[0mself\u001b[0m\u001b[0;34m.\u001b[0m\u001b[0m_args\u001b[0m\u001b[0;34m,\u001b[0m \u001b[0;34m**\u001b[0m\u001b[0mkwargs\u001b[0m\u001b[0;34m)\u001b[0m\u001b[0;34m\u001b[0m\u001b[0;34m\u001b[0m\u001b[0m\n\u001b[0m\u001b[1;32m    205\u001b[0m                 \u001b[0;32mif\u001b[0m \u001b[0mself\u001b[0m\u001b[0;34m.\u001b[0m\u001b[0m_mode\u001b[0m \u001b[0;34m==\u001b[0m \u001b[0;34m\"w\"\u001b[0m\u001b[0;34m:\u001b[0m\u001b[0;34m\u001b[0m\u001b[0;34m\u001b[0m\u001b[0m\n\u001b[1;32m    206\u001b[0m                     \u001b[0;31m# ensure file doesn't get overriden when opened again\u001b[0m\u001b[0;34m\u001b[0m\u001b[0;34m\u001b[0m\u001b[0;34m\u001b[0m\u001b[0m\n",
      "\u001b[0;32mnetCDF4/_netCDF4.pyx\u001b[0m in \u001b[0;36mnetCDF4._netCDF4.Dataset.__init__\u001b[0;34m()\u001b[0m\n",
      "\u001b[0;32mnetCDF4/_netCDF4.pyx\u001b[0m in \u001b[0;36mnetCDF4._netCDF4._ensure_nc_success\u001b[0;34m()\u001b[0m\n",
      "\u001b[0;31mPermissionError\u001b[0m: [Errno 13] Permission denied: b'/Volumes/GeneralBackup/backup_20210627/Desktop/WORK/MODEL/Onelayer/try5/Par_1_largedomain/Data_5.nc'"
     ]
    }
   ],
   "source": [
    "# save thy data\n",
    "\n",
    "Data.to_netcdf(outfilepath + Data_filename, mode='w')\n"
   ]
  },
  {
   "cell_type": "code",
   "execution_count": 26,
   "metadata": {},
   "outputs": [],
   "source": [
    "# read data from netcdf\n",
    "\n",
    "Data = xr.open_dataset(outfilepath + Data_filename)\n"
   ]
  },
  {
   "cell_type": "code",
   "execution_count": 9,
   "metadata": {},
   "outputs": [],
   "source": [
    "# # read info - dissipation coefficient, location of the sill\n",
    "# runid = datafilepath + 'run00' + Expnum + '.ic'\n",
    "\n",
    "# # with open(runid) as fp:\n",
    "# fid = io.open(runid, mode='r')\n",
    "# for i in range(4):\n",
    "#     print(fid.readline())\n",
    "# A = fid.readline()\n",
    "# yend=A\n",
    "\n",
    "# if len(A)==13:\n",
    "#     Cf = float(A[4:7])\n",
    "#     Cb = float(A[7+2:7+5])\n",
    "# else:\n",
    "#     Cf = float(A[4:7+len(A)-13])\n",
    "#     Cb = float(A[7+len(A)-13+2:7+len(A)-13+5])\n",
    "\n",
    "# A = fid.readline()\n",
    "# wc = float(A[12:16])\n",
    "# hc = float(A[17:21])\n",
    "# yc = float(A[-5:-1])\n",
    "# fid.close()\n",
    "\n",
    "# # # In y-direction:\n",
    "# #   # Where is the center of the channel?\n",
    "# # y0 = y[-1] - wc - wc/2\n",
    "# #   # Where is the joint of the channel and the plateau?\n",
    "# # yc = y[-1] - 2*wc - wc\n",
    "\n",
    "\n",
    "# # Topo = xr.Dataset({'Ly': (Ly),\n",
    "# #                    'xc': (xc),\n",
    "# #                    'theta_i': (theta_i),\n",
    "# #                    'theta_b': (theta_b),\n",
    "# #                      'y0': (y0),\n",
    "# #                      'yc': (yc)},\n",
    "# #                  attrs={'title':'Essentials for model topography, theta are for Gaussian',\n",
    "# #                        'description':'Ly: island width; xc: sill-crest; theta_i: plateau slope; theta_b: channel length'})\n",
    "\n",
    "\n",
    "# # Topo = xr.Dataset({'xc': (yc)},\n",
    "# #                  attrs={'title':'Essentials for model topography, theta are for Gaussian',\n",
    "# #                        'description':'Ly: island width; xc: sill-crest; theta_i: plateau slope; theta_b: channel length'})"
   ]
  },
  {
   "cell_type": "code",
   "execution_count": 27,
   "metadata": {},
   "outputs": [],
   "source": [
    "# combine model output and model setups\n",
    "\n",
    "Topo = xr.open_dataset(Topo_filepath + Topo_filename)\n",
    "\n",
    "Data = xr.merge([Data, Topo])"
   ]
  },
  {
   "cell_type": "code",
   "execution_count": 28,
   "metadata": {},
   "outputs": [
    {
     "data": {
      "text/plain": [
       "(60.0, 50.0)"
      ]
     },
     "execution_count": 28,
     "metadata": {},
     "output_type": "execute_result"
    },
    {
     "data": {
      "image/png": "[encoded data removed]",
      "text/plain": [
       "<Figure size 864x864 with 7 Axes>"
      ]
     },
     "metadata": {
      "needs_background": "light"
     },
     "output_type": "display_data"
    }
   ],
   "source": [
    "from matplotlib import cm\n",
    "cmap=cm.nipy_spectral #RdBu_r\n",
    "cmap.set_bad('gray',1.)\n",
    "# cmap.set_over('lime',1.)\n",
    "\n",
    "ita = Data.H + Data.B\n",
    "ita0 = np.squeeze(ita.sel(time=0, method='nearest'))\n",
    "h0 = np.squeeze(Data.H.sel(time=0, method='nearest'))\n",
    "ita = np.squeeze(ita.sel(time=400, method='nearest'))\n",
    "h = np.squeeze(Data.H.sel(time=400, method='nearest'))\n",
    "u = np.squeeze(Data.U.sel(time=400, method='nearest'))\n",
    "v = np.squeeze(Data.V.sel(time=400, method='nearest'))\n",
    "ita.data[h < 1e-4] = np.nan\n",
    "u.data[h < 1e-4] = np.nan\n",
    "v.data[h < 1e-4] = np.nan\n",
    "h.data[h < 1e-4] = np.nan\n",
    "\n",
    "fig, ax = plt.subplots(nrows=2, ncols=2, figsize=(12, 12), sharey=True)\n",
    "\n",
    "ita.T.plot(cmap=cmap, ax=ax[0,0], \n",
    "           vmin=0, vmax=2, add_colorbar=True)\n",
    "ax[0,0].plot([50, 60], [35, 35], color='k', lw=6)\n",
    "ax[0,0].set_title('h+d')\n",
    "ax[0,0].set_xlim([60, 50])\n",
    "# ax[0,0].set_ylim([0, 60])\n",
    "\n",
    "u.T.plot(cmap=cmap, ax=ax[1,0], \n",
    "         vmin=-1, vmax=1, add_colorbar=True)\n",
    "ax[1,0].plot([50, 60], [35, 35], color='k', lw=6)\n",
    "ax[1,0].set_title('u')\n",
    "ax[1,0].set_xlim([60, 50])\n",
    "# ax[1,0].set_ylim([0, 60])\n",
    "\n",
    "v.T.plot(cmap=cmap, ax=ax[1,1], \n",
    "         vmin=-.5, vmax=.5, add_colorbar=True)\n",
    "ax[1,1].plot([50, 60], [35, 35], color='k', lw=6)\n",
    "ax[1,1].set_title('v')\n",
    "ax[1,1].set_xlim([60, 50])\n",
    "# ax[1,1].set_ylim([0, 60])\n"
   ]
  },
  {
   "cell_type": "code",
   "execution_count": 29,
   "metadata": {},
   "outputs": [
    {
     "data": {
      "text/plain": [
       "<matplotlib.collections.QuadMesh at 0x7fc81ee564d0>"
      ]
     },
     "execution_count": 29,
     "metadata": {},
     "output_type": "execute_result"
    },
    {
     "data": {
      "image/png": "[encoded data removed]",
      "text/plain": [
       "<Figure size 432x288 with 2 Axes>"
      ]
     },
     "metadata": {
      "needs_background": "light"
     },
     "output_type": "display_data"
    }
   ],
   "source": [
    "Data.B.T.plot()\n"
   ]
  },
  {
   "cell_type": "markdown",
   "metadata": {},
   "source": [
    "# Compute transport: "
   ]
  },
  {
   "cell_type": "markdown",
   "metadata": {},
   "source": [
    "Q_c (channel); Q_p (east of plateau)"
   ]
  },
  {
   "cell_type": "code",
   "execution_count": 30,
   "metadata": {},
   "outputs": [],
   "source": [
    "# if xc is included in x, then we good, or we have to interp to obtain Qc\n",
    " # status = 1: need to pickout 2 values if xc cannot be found in x; \n",
    "    # status = 0: only get the closest value\n",
    "    \n",
    "def same_x(x, xc, status):\n",
    "    if np.isin(xc, x) == True:\n",
    "        # index for xc\n",
    "        ixc = np.where(x == xc)\n",
    "    else:\n",
    "        ixc1 = (np.abs(x - xc)).argmin()\n",
    "        ixc2 = (np.abs(xr.concat([x[ixc1-1], x[ixc1+1]],'x') - xc)).argmin()\n",
    "        if ixc2 == 0:\n",
    "            ixc = xr.concat([ixc1, ixc1-1],'x')\n",
    "        else:\n",
    "            if status == 1:\n",
    "                ixc = xr.concat([ixc1, ixc1+1],'x')\n",
    "            else:\n",
    "                ixc = ixc1\n",
    "    return ixc\n",
    "        "
   ]
  },
  {
   "cell_type": "code",
   "execution_count": 31,
   "metadata": {},
   "outputs": [],
   "source": [
    "# find the indexes of the xc, and cross-sections of interest: xc-5:xc+5\n",
    "\n",
    "ixc = same_x(Data.x, Topo.xc, 1)\n",
    "ixu = same_x(Data.x, Topo.xc - 5, 0)\n",
    "ixd = same_x(Data.x, Topo.xc + 5, 0)"
   ]
  },
  {
   "cell_type": "code",
   "execution_count": 32,
   "metadata": {},
   "outputs": [],
   "source": [
    "# compute transport everywhere\n",
    "\n",
    "h = Data.H[:, :, ixu.data.tolist():ixd.data.tolist()]\n",
    "u = Data.U[:, : ,ixu.data.tolist():ixd.data.tolist()]\n",
    "uh = u*h\n",
    "uh1 = np.squeeze(Data.H[:, :, 0]*Data.U[:, :, 0])\n",
    "\n",
    "# integrate from y(end): western boundary (uh[:,::-1,:])\n",
    "\n",
    "# Q_all = uh[:,:,::-1].integrate('y')\n",
    "from scipy import integrate\n",
    "Q_all = sp.integrate.cumtrapz(uh[:,::-1,:], Data.y, axis=1) \n",
    "Q_all = Q_all[:,::-1,:]\n",
    "\n",
    "Q_all = np.concatenate((Q_all, np.zeros((Q_all.shape[0], 1, Q_all.shape[-1]))), axis=1)\n",
    "\n",
    "# Q_all into two parts: within channle and east of plateau\n",
    "\n",
    "Q_all_duplicate = np.copy(Q_all)\n",
    "Q_all_duplicate = xr.DataArray(Q_all_duplicate, dims=['time', 'y', 'x'], \n",
    "                     coords={'time':np.squeeze(Data.time.data), \n",
    "                             'y': np.squeeze(Data.y.data), \n",
    "                             'x': np.squeeze(Data.x.data[ixu.data.tolist():ixd.data.tolist()])},\n",
    "                     attrs={'long_name':'Transport',\n",
    "                           'description':'start from y=y(end)'})\n",
    "\n",
    "Q_all[h<1e-7] = np.nan\n",
    "\n",
    "Q_all = xr.DataArray(Q_all, dims=['time', 'y', 'x'], \n",
    "                     coords={'time':np.squeeze(Data.time.data), \n",
    "                             'y': np.squeeze(Data.y.data), \n",
    "                             'x': np.squeeze(Data.x.data[ixu.data.tolist():ixd.data.tolist()])},\n",
    "                     attrs={'long_name':'Transport',\n",
    "                           'description':'start from y=y(end)'})\n",
    "\n",
    "Q_u = sp.integrate.cumtrapz(uh1[:,::-1], Data.y, axis=1) \n",
    "Q_u = Q_u[:,-1]"
   ]
  },
  {
   "cell_type": "markdown",
   "metadata": {},
   "source": [
    "Notice : x - down to up; y - right to left"
   ]
  },
  {
   "cell_type": "code",
   "execution_count": 33,
   "metadata": {},
   "outputs": [
    {
     "data": {
      "text/plain": [
       "<matplotlib.collections.QuadMesh at 0x7fcc124bdcd0>"
      ]
     },
     "execution_count": 33,
     "metadata": {},
     "output_type": "execute_result"
    },
    {
     "data": {
      "image/png": "[encoded data removed]",
      "text/plain": [
       "<Figure size 432x288 with 2 Axes>"
      ]
     },
     "metadata": {
      "needs_background": "light"
     },
     "output_type": "display_data"
    }
   ],
   "source": [
    "Q_all[-1,:,:].T.plot()"
   ]
  },
  {
   "cell_type": "code",
   "execution_count": 34,
   "metadata": {},
   "outputs": [],
   "source": [
    "def separate2trans(Q, Q1):\n",
    "    \"\"\"\n",
    "    separate Q (array) into two parts: within channle and east of plateau\n",
    "    \n",
    "    NOTE: for channel near x=0 (x direction : towards east)\n",
    "    \"\"\"\n",
    "    \n",
    "    l = np.where(np.isnan(Q))\n",
    "    dl = np.diff(l[0])\n",
    "    # integrate within the channel\n",
    "#     Q_c = max(Q[l[0][np.where(dl>1)[0]] + 1])\n",
    "### this allows to pick out a transport at edges h~0\n",
    "    Q_c = max(Q1[l[0][np.where(dl>1)[0]]])\n",
    "    # integrate from east of the plateau to the eastern boundary\n",
    "#     Q_p = Q[0] - Q[l[0][0]-1]\n",
    "    Q_p = Q[0] - Q1[l[0][0]]\n",
    "    return np.array([Q_c, Q_p])\n"
   ]
  },
  {
   "cell_type": "code",
   "execution_count": 35,
   "metadata": {
    "scrolled": true
   },
   "outputs": [],
   "source": [
    "# Q_all into two parts: Q_c - within channle, and Q_p - east of plateau\n",
    "\n",
    "Q_c = np.zeros((Q_all.shape[0], Q_all.shape[-1]))\n",
    "Q_p = np.zeros((Q_all.shape[0], Q_all.shape[-1]))\n",
    "\n",
    "# with ProgressBar():\n",
    "    \n",
    "for i in range(Q_all.shape[0]):\n",
    "    for j in range(Q_all.shape[-1]):\n",
    "        Q_c[i, j] = separate2trans(Q_all[i,:,j].data, \n",
    "                                   Q_all_duplicate[i,:,j].data)[0]\n",
    "        Q_p[i, j] = separate2trans(Q_all[i,:,j].data, \n",
    "                                   Q_all_duplicate[i,:,j].data)[-1]\n",
    "\n",
    "Q_c = xr.DataArray(Q_c, dims=['time', 'x'], \n",
    "             coords={'time':np.squeeze(Data.time.data), \n",
    "                     'x': np.squeeze(Data.x.data[ixu.data.tolist():ixd.data.tolist()])},\n",
    "             attrs={'long_name':'Transport of the channel',\n",
    "                   'description':'start from y=y(end) end at the sill boundary'})\n",
    "\n",
    "Q_p = xr.DataArray(Q_p, dims=['time', 'x'], \n",
    "             coords={'time':np.squeeze(Data.time.data), \n",
    "                     'x': np.squeeze(Data.x.data[ixu.data.tolist():ixd.data.tolist()])},\n",
    "             attrs={'long_name':'Transport east of the plateau',\n",
    "                   'description':'start from east of plateau end at eastern boundary of domain'})\n",
    "\n",
    "Q_u = xr.DataArray(Q_u, dims=['time'], \n",
    "             coords={'time':np.squeeze(Data.time.data)},\n",
    "             attrs={'long_name':'Transport at the entrance',\n",
    "                   'description':'within the whole domain at x = 0'})\n",
    "\n"
   ]
  },
  {
   "cell_type": "code",
   "execution_count": 36,
   "metadata": {},
   "outputs": [],
   "source": [
    "# build Dataset (at x)\n",
    "Q = xr.Dataset({'Q_c': (['time'], Q_c.sel(x=[Topo.xc.data.tolist()], method='nearest')[:,0]),\n",
    "                'Q_p': (['time'], Q_p.sel(x=[Topo.xc.data.tolist()], method='nearest')[:,0]),\n",
    "                'Q_u': (['time'], Q_u)},\n",
    "                 coords={'time': np.squeeze(Data.time.data)},\n",
    "                 attrs={'title':'Transport at some sections',\n",
    "                       'description':'sill crest: Q_c (channel), Q_p(east of plateau; Upstream: Q_u (all domain)) '})\n",
    "\n"
   ]
  },
  {
   "cell_type": "markdown",
   "metadata": {},
   "source": [
    "# Compute Bernoulli"
   ]
  },
  {
   "cell_type": "code",
   "execution_count": 26,
   "metadata": {},
   "outputs": [],
   "source": [
    "# Ber=(sqrt(u^2+v^2))^2/2+(d+h)\n",
    "\n",
    "Ber = (Data.U**2 + Data.V**2)/2 + Data.B + Data.H\n",
    "\n",
    "h = Data.H\n",
    "Ber = Ber.data\n",
    "Ber[h<1e-7] = 0\n",
    "\n",
    "Ber = xr.DataArray(Ber, dims=['time', 'y', 'x'], \n",
    "                coords={'time':np.squeeze(Data.time.data), \n",
    "                        'y': np.squeeze(Data.y.data), \n",
    "                        'x': np.squeeze(Data.x.data)},\n",
    "                attrs={'long_name':'Bernoulli function'})"
   ]
  },
  {
   "cell_type": "markdown",
   "metadata": {},
   "source": [
    "## compute integrated Bernoulli along the channel (upstream-crest-downstream)"
   ]
  },
  {
   "cell_type": "code",
   "execution_count": 27,
   "metadata": {},
   "outputs": [
    {
     "data": {
      "text/plain": [
       "<matplotlib.collections.QuadMesh at 0x7f916d68e810>"
      ]
     },
     "execution_count": 27,
     "metadata": {},
     "output_type": "execute_result"
    },
    {
     "data": {
      "image/png": "[encoded data removed]",
      "text/plain": [
       "<Figure size 432x288 with 2 Axes>"
      ]
     },
     "metadata": {
      "needs_background": "light"
     },
     "output_type": "display_data"
    }
   ],
   "source": [
    "# integrate from y(end): western boundary (B[:,::-1,:])\n",
    "\n",
    "# B_int_all = B[:,:,::-1].integrate('y')\n",
    "from scipy import integrate\n",
    "B_int_all = sp.integrate.cumtrapz(\n",
    "    Ber[:, ::-1, ixu.data.tolist():ixd.data.tolist()], Data.y, axis=1)\n",
    "B_int_all = B_int_all[:, ::-1, :]\n",
    "\n",
    "B_int_all = np.concatenate((B_int_all, np.zeros(\n",
    "    (B_int_all.shape[0], 1, B_int_all.shape[-1]))), axis=1)\n",
    "\n",
    "# B_int_all into two parts: within channle and east of plateau\n",
    "\n",
    "B_int_all_duplicate = np.copy(B_int_all)\n",
    "B_int_all_duplicate = xr.DataArray(B_int_all_duplicate, dims=['time', 'y', 'x'],\n",
    "                                   coords={'time': np.squeeze(Data.time.data),\n",
    "                                           'y': np.squeeze(Data.y.data),\n",
    "                                           'x': np.squeeze(Data.x.data[ixu.data.tolist():ixd.data.tolist()])},\n",
    "                                   attrs={'long_name': 'Bernoulli integration',\n",
    "                                          'description': 'start from y=y(end)'})\n",
    "\n",
    "B_int_all[Data.H[:, :, ixu.data.tolist():ixd.data.tolist()] < 1e-7] = np.nan\n",
    "\n",
    "B_int_all = xr.DataArray(B_int_all, dims=['time', 'y', 'x'],\n",
    "                         coords={'time': np.squeeze(Data.time.data),\n",
    "                                 'y': np.squeeze(Data.y.data),\n",
    "                                 'x': np.squeeze(Data.x.data[ixu.data.tolist():ixd.data.tolist()])},\n",
    "                         attrs={'long_name': 'Bernoulli integration',\n",
    "                                'description': 'start from y=y(end)'})\n",
    "\n",
    "B_int_u = sp.integrate.cumtrapz(np.squeeze(Ber[:, ::-1, 0]), Data.y, axis=1)\n",
    "B_int_u = B_int_u[:, -1]\n",
    "\n",
    "B_int_all.sel(time=100, method='nearest').T.plot()"
   ]
  },
  {
   "cell_type": "code",
   "execution_count": 28,
   "metadata": {},
   "outputs": [],
   "source": [
    "# B_int_all into two parts: B_int_c - within channle, and B_int_p - east of plateau\n",
    "\n",
    "B_int_c = np.zeros((B_int_all.shape[0], B_int_all.shape[-1]))\n",
    "B_int_p = np.zeros((B_int_all.shape[0], B_int_all.shape[-1]))\n",
    "\n",
    "# with ProgressBar():\n",
    "\n",
    "for i in range(B_int_all.shape[0]):\n",
    "    for j in range(B_int_all.shape[-1]):\n",
    "        B_int_c[i, j] = separate2trans(B_int_all[i, :, j].data,\n",
    "                                       B_int_all_duplicate[i, :, j].data)[0]\n",
    "        B_int_p[i, j] = separate2trans(B_int_all[i, :, j].data,\n",
    "                                       B_int_all_duplicate[i, :, j].data)[-1]\n",
    "\n",
    "B_int_c = xr.DataArray(B_int_c, dims=['time', 'x'],\n",
    "                       coords={'time': np.squeeze(Data.time.data),\n",
    "                               'x': np.squeeze(Data.x.data[ixu.data.tolist():ixd.data.tolist()])},\n",
    "                       attrs={'long_name': 'Bernoulli integration of the channel',\n",
    "                              'description': 'start from y=y(end) end at the sill boundary'})\n",
    "\n",
    "B_int_p = xr.DataArray(B_int_p, dims=['time', 'x'],\n",
    "                       coords={'time': np.squeeze(Data.time.data),\n",
    "                               'x': np.squeeze(Data.x.data[ixu.data.tolist():ixd.data.tolist()])},\n",
    "                       attrs={'long_name': 'Bernoulli integration east of the plateau',\n",
    "                              'description': 'start from east of plateau end at eastern boundary of domain'})\n",
    "\n",
    "B_int_u = xr.DataArray(B_int_u, dims=['time'],\n",
    "                       coords={'time': np.squeeze(Data.time.data)},\n",
    "                       attrs={'long_name': 'Bernoulli integration at the entrance',\n",
    "                              'description': 'within the whole domain at x = 0'})"
   ]
  },
  {
   "cell_type": "code",
   "execution_count": 29,
   "metadata": {},
   "outputs": [],
   "source": [
    "# build Dataset (at x)\n",
    "Ber_int = xr.Dataset({'Ber_int_c': (['time', 'x'], B_int_c),\n",
    "                'Ber_int_p': (['time', 'x'], B_int_p),\n",
    "                'Ber_int_u': (['time'], B_int_u)},\n",
    "                 coords={'time': np.squeeze(Data.time.data),\n",
    "                         'x': np.squeeze(Data.x.data[ixu.data.tolist():ixd.data.tolist()])},\n",
    "                 attrs={'title':'Bernoulli integration at some sections',\n",
    "                       'description':'sill crest: Ber_int_c (channel), Ber_int_p(east of plateau; Upstream: Ber_int_u (all domain)) '})"
   ]
  },
  {
   "cell_type": "code",
   "execution_count": 30,
   "metadata": {},
   "outputs": [
    {
     "data": {
      "text/plain": [
       "<matplotlib.legend.Legend at 0x7f916c3e7650>"
      ]
     },
     "execution_count": 30,
     "metadata": {},
     "output_type": "execute_result"
    },
    {
     "data": {
      "image/png": "[encoded data removed]",
      "text/plain": [
       "<Figure size 432x288 with 1 Axes>"
      ]
     },
     "metadata": {
      "needs_background": "light"
     },
     "output_type": "display_data"
    }
   ],
   "source": [
    "# plt.contour(Ber_int.Ber_int_c.T)\n",
    "Ber_int.Ber_int_c.sel(time=0, method='nearest').plot(label='t=0')\n",
    "\n",
    "Ber_int.Ber_int_c.sel(time=100, method='nearest').plot(label='t=100')\n",
    "\n",
    "Ber_int.Ber_int_c.sel(time=400, method='nearest').plot(label='t=400')\n",
    "\n",
    "plt.legend()"
   ]
  },
  {
   "cell_type": "code",
   "execution_count": 31,
   "metadata": {},
   "outputs": [],
   "source": [
    "# prepare data for along-circuit interpolation\n",
    "\n",
    "Ber = (Data.U**2 + Data.V**2)/2 + Data.B + Data.H\n",
    "\n",
    "h = Data.H\n",
    "Ber = Ber.data\n",
    "Ber[h<1e-7] = np.nan\n",
    "\n",
    "Ber = xr.DataArray(Ber, dims=['time', 'y', 'x'], \n",
    "                coords={'time':np.squeeze(Data.time.data), \n",
    "                        'y': np.squeeze(Data.y.data), \n",
    "                        'x': np.squeeze(Data.x.data)},\n",
    "                attrs={'long_name':'Bernoulli function'})"
   ]
  },
  {
   "cell_type": "markdown",
   "metadata": {},
   "source": [
    "# Compute PV"
   ]
  },
  {
   "cell_type": "code",
   "execution_count": null,
   "metadata": {},
   "outputs": [],
   "source": [
    "# # PV = np.zeros(Data.H.data.shape)\n",
    "# # curlz = np.zeros(Data.H.data.shape)\n",
    "\n",
    "# # h = Data.H.data\n",
    "# # u = Data.U.data\n",
    "# # v = Data.V.data\n",
    "# # dx = np.diff(Data.x.data.tolist())[0]\n",
    "# # dy = np.diff(Data.y.data.tolist())[0]\n",
    "\n",
    "# # # the original y direction is left to right,\n",
    "# # # want to shift it and do the derivative\n",
    "# # u = u[:, ::-1, :]\n",
    "# # v = v[:, ::-1, :]\n",
    "# # h = h[:, ::-1, :]\n",
    "\n",
    "# # u[h < 1e-7] = np.nan\n",
    "# # v[h < 1e-7] = np.nan\n",
    "# # h[h < 1e-7] = np.nan\n",
    "\n",
    "# # curlz[:, 1:-1, 1:-1] = -(u[:, 1:-1, 2:] - u[:, 1:-1, 0:-2])/2/dx + \\\n",
    "# #     (v[:, 2:, 1:-1] - v[:, 0:-2, 1:-1])/2/dy - \\\n",
    "# #     np.ones(u[:, 1:-1, 2:].shape)\n",
    "\n",
    "# PV = np.zeros(Data.H.data.shape)\n",
    "# curlz = np.zeros(Data.H.data.shape)\n",
    "\n",
    "# h = Data.H.data\n",
    "# u = Data.U.data\n",
    "# v = Data.V.data\n",
    "# dx = np.diff(Data.x.data.tolist())[0]\n",
    "# dy = np.diff(Data.y.data.tolist())[0]\n",
    "\n",
    "# # the original y [0:60] is correspond to other variables, right to left\n",
    "# # shift variables so that the channel sit on the left\n",
    "# u = u[:, ::-1, :]\n",
    "# v = v[:, ::-1, :]\n",
    "# h = h[:, ::-1, :]\n",
    "# # previous v: east to west\n",
    "# v = -v\n",
    "# u[h < 1e-7] = np.nan\n",
    "# v[h < 1e-7] = np.nan\n",
    "# h[h < 1e-7] = np.nan\n",
    "\n",
    "# curlz[:, 1:-1, 1:-1] = (u[:, 2:, 1:-1] - u[:, 0:-2, 1:-1])/2/dy - \\\n",
    "#     (v[:, 1:-1, 2:] - v[:, 1:-1, 0:-2])/2/dx\n",
    "# # # test\n",
    "# # curlz[:, 1:-1, 1:-1] = (u[:, 2:, 1:-1] - u[:, 0:-2, 1:-1])/2/dy \n",
    "# # curlz[:, 1:-1, 1:-1] = - (v[:, 1:-1, 2:] - v[:, 1:-1, 0:-2])/2/dx\n",
    "\n",
    "# RV = curlz\n",
    "# RV[:,0,:] =  RV[:,1,:] ; RV[:,-1,:] =  RV[:,-2,:] \n",
    "# RV[:,:,0] =  RV[:,:,1] ; RV[:,:,-1] =  RV[:,:,-2] \n",
    "# AV = RV - np.ones(RV.shape)\n",
    "# PV = AV/h\n",
    "\n",
    "# RV = xr.DataArray(RV, dims=['time', 'y', 'x'], \n",
    "#                 coords={'time':np.squeeze(Data.time.data), \n",
    "#                         'y': np.squeeze(Data.y.data[::-1]), \n",
    "#                         'x': np.squeeze(Data.x.data)},\n",
    "#                 attrs={'long_name':'RV'})\n",
    "\n",
    "# AV = xr.DataArray(AV, dims=['time', 'y', 'x'], \n",
    "#                 coords={'time':np.squeeze(Data.time.data), \n",
    "#                         'y': np.squeeze(Data.y.data[::-1]), \n",
    "#                         'x': np.squeeze(Data.x.data)},\n",
    "#                 attrs={'long_name':'AV'})\n",
    "\n",
    "# PV = xr.DataArray(PV, dims=['time', 'y', 'x'],\n",
    "#                   coords={'time': np.squeeze(Data.time.data),\n",
    "#                           'y': np.squeeze(Data.y.data[::-1]),\n",
    "#                           'x': np.squeeze(Data.x.data)},\n",
    "#                   attrs={'long_name': 'PV'})\n"
   ]
  },
  {
   "cell_type": "code",
   "execution_count": null,
   "metadata": {},
   "outputs": [],
   "source": [
    "# # plot\n",
    "\n",
    "# from matplotlib import cm\n",
    "\n",
    "# fig = plt.figure(figsize=(4,6))\n",
    "\n",
    "# PV.sel(time=[300], method='nearest').T.plot(cmap=cm.RdBu_r,\\\n",
    "#                                        vmin=-2, vmax=0.025\\\n",
    "#                                        , xlim=[60,52], add_colorbar=True)\n"
   ]
  },
  {
   "cell_type": "markdown",
   "metadata": {},
   "source": [
    "# Make a Video!"
   ]
  },
  {
   "cell_type": "code",
   "execution_count": null,
   "metadata": {},
   "outputs": [],
   "source": [
    "# # Video of h+b\n",
    "# # inspired by: http://tech.weatherforce.org/blog/ecmwf-data-animation/index.html\n",
    "# ita = Data.H + Data.B\n",
    "    "
   ]
  },
  {
   "cell_type": "code",
   "execution_count": null,
   "metadata": {},
   "outputs": [],
   "source": [
    "# from matplotlib import cm\n",
    "# import matplotlib.animation as animation\n",
    "\n",
    "# fig = plt.figure(figsize=(4,6))\n",
    "\n",
    "# frames = Q_c.shape[0]\n",
    "\n",
    "# def draw(frame, add_colorbar):\n",
    "#     ita_i = ita[frame, :, :]\n",
    "#     contour = ita_i.T.plot(cmap=cm.nipy_spectral, vmin=0.5, vmax=1.6, \n",
    "#                            xlim=[60,52], add_colorbar=add_colorbar)\n",
    "# #     title = u\"%s — %s\" % (ds.t2m.long_name, str(area.time[frame].values)[:19])\n",
    "# #     ax.set_title(title)\n",
    "#     return contour\n",
    "\n",
    "# def init():\n",
    "#     return draw(0, add_colorbar=True)\n",
    "\n",
    "\n",
    "# def animate(frame):\n",
    "#     return draw(frame, add_colorbar=False)\n",
    "\n",
    "# ani = animation.FuncAnimation(fig, animate, frames, interval=300, blit=False,\n",
    "#                               init_func=init, repeat=False)\n",
    "\n",
    "# # ani.save('/Users/tantanmeow/WORK/2018-2019/Samoan/STan/GillMod_python/ModelOutputs/test.mp4',\n",
    "# #         writer=animation.FFMpegWriter(fps=8))\n",
    "# ani.save(outfilepath + 'test.htm')\n",
    "\n",
    "# # plt.close(fig)\n"
   ]
  },
  {
   "cell_type": "markdown",
   "metadata": {},
   "source": [
    "# Data along circuits:"
   ]
  },
  {
   "cell_type": "code",
   "execution_count": 32,
   "metadata": {},
   "outputs": [],
   "source": [
    "# load circuit\n",
    "ita = Data.H + Data.B\n",
    "\n",
    "data = sio.loadmat(Circuit_filepath + Circuit_filename,squeeze_me = True,struct_as_record = False)\n",
    "x1 = data['x1'] \n",
    "y1 = data['y1'] \n",
    "\n",
    "x1 = x1[0:S[0]]\n",
    "y1 = y1[0:S[0]]\n",
    "\n",
    "# interp ita to along circuit\n",
    "ita_cir = np.zeros((ita.shape[0], len(x1)))\n",
    "# Bernoulli\n",
    "Ber_cir = np.zeros((ita.shape[0], len(x1)))\n",
    "# bottom elevation\n",
    "B_cir = np.zeros(len(x1))\n",
    "\n",
    "for i in range(len(x1)):\n",
    "    ita_cir[:,i] = np.squeeze(ita.interp(y=y1[i], x=x1[i]).data)\n",
    "    Ber_cir[:,i] = np.squeeze(Ber.interp(y=y1[i], x=x1[i]).data)\n",
    "    B_cir[i] = np.squeeze(Data.B.interp(y=y1[i], x=x1[i]).data)\n",
    "\n",
    "# distance\n",
    "dx = np.diff(x1)\n",
    "dy = np.diff(y1)\n",
    "\n",
    "Dis = np.append([0], np.cumsum(np.sqrt(dx**2 + dy**2)))\n",
    "\n",
    "ita_cir = xr.DataArray(ita_cir, dims=['time', 'dis'], \n",
    "                coords={'time':np.squeeze(Data.time.data), \n",
    "                        'dis': Dis},\n",
    "                attrs={'long_name':'h+b along circuit'})\n",
    "\n",
    "Ber_cir = xr.DataArray(Ber_cir, dims=['time', 'dis'], \n",
    "                coords={'time':np.squeeze(Data.time.data), \n",
    "                        'dis': Dis},\n",
    "                attrs={'long_name':'Bernoulli along circuit'})\n",
    "\n",
    "B_cir = xr.DataArray(B_cir, dims=['dis'], \n",
    "                coords={'dis': Dis},\n",
    "                attrs={'long_name':'Bottom elevation along circuit'})\n",
    "\n",
    "\n"
   ]
  },
  {
   "cell_type": "code",
   "execution_count": 33,
   "metadata": {},
   "outputs": [],
   "source": [
    "# build Dataset (at x)\n",
    "Circ = xr.Dataset({'ita_cir': (['time', 'dis'], ita_cir),\n",
    "                'Ber_cir': (['time', 'dis'], Ber_cir),\n",
    "                'B_cir': (['dis'], B_cir),\n",
    "                'x1': x1, \n",
    "                'y1': y1,\n",
    "                'S': S},\n",
    "                 coords={'time': np.squeeze(Data.time.data),\n",
    "                        'dis': Dis},\n",
    "                 attrs={'title':'Variables along the circuit',\n",
    "                       'description':'S1=[S[1]], S2=[S[2]], S3=[S[3]]'})\n",
    "\n",
    "Out = xr.merge([Circ, Q, Ber_int])\n"
   ]
  },
  {
   "cell_type": "code",
   "execution_count": 37,
   "metadata": {},
   "outputs": [],
   "source": [
    "Out=Q"
   ]
  },
  {
   "cell_type": "code",
   "execution_count": 38,
   "metadata": {},
   "outputs": [],
   "source": [
    "# save thy data\n",
    "\n",
    "Out.to_netcdf(outfilepath + Out_filename)"
   ]
  },
  {
   "cell_type": "code",
   "execution_count": null,
   "metadata": {},
   "outputs": [],
   "source": [
    "Out = xr.open_dataset(outfilepath + Out_filename)\n",
    "\n",
    "Out.Q_u.plot(c='k', label='$Q_u$')\n",
    "(Out.Q_c + Out.Q_p).plot(c='0.4', label='$Q_c+Q_p$')\n",
    "Out.Q_c.plot(c='r', label='$Q_c$')\n",
    "Out.Q_p.plot(c='b', label='$Q_p$')\n",
    "\n",
    "# plt.plot([0, 400], [Q1s[G1, G2], Q1s[G1, G2]], c='r', linestyle='dashed')\n",
    "# plt.plot([0, 400], [0.5 - Q1s[G1, G2], 0.5 - Q1s[G1, G2]], c='b', linestyle='dashed')\n",
    "plt.xlim(0,800)\n",
    "plt.ylim(0,.8)\n",
    "plt.ylabel('Transport')\n",
    "plt.grid(True)\n",
    "plt.legend(loc='best', fontsize=14) #bbox_to_anchor=(1.45,0.6), \n",
    "plt.tight_layout()\n",
    "\n",
    "plt.savefig(outfilepath + 'Trans_' + Expnum + '.png',dpi=200)\n"
   ]
  },
  {
   "cell_type": "code",
   "execution_count": 22,
   "metadata": {},
   "outputs": [],
   "source": [
    "t=np.arange(0,400)"
   ]
  },
  {
   "cell_type": "code",
   "execution_count": 23,
   "metadata": {},
   "outputs": [
    {
     "data": {
      "text/plain": [
       "[<matplotlib.lines.Line2D at 0x7ff72fde94d0>]"
      ]
     },
     "execution_count": 23,
     "metadata": {},
     "output_type": "execute_result"
    },
    {
     "data": {
      "image/png": "[encoded data removed]",
      "text/plain": [
       "<Figure size 432x288 with 1 Axes>"
      ]
     },
     "metadata": {
      "needs_background": "light"
     },
     "output_type": "display_data"
    }
   ],
   "source": [
    "plt.plot(t,0.4+0.4*np.sin(2*np.pi*t/100))\n",
    "plt.plot(t,np.sqrt(2*(0.4+0.4*np.sin(2*np.pi*t/100))+1))"
   ]
  },
  {
   "cell_type": "code",
   "execution_count": 24,
   "metadata": {},
   "outputs": [
    {
     "data": {
      "text/plain": [
       "1.4142135623730951"
      ]
     },
     "execution_count": 24,
     "metadata": {},
     "output_type": "execute_result"
    },
    {
     "data": {
      "image/png": "[encoded data removed]",
      "text/plain": [
       "<Figure size 432x288 with 1 Axes>"
      ]
     },
     "metadata": {
      "needs_background": "light"
     },
     "output_type": "display_data"
    }
   ],
   "source": [
    "Data.H[:,-1,0].plot()\n",
    "np.sqrt(2*0.5+1)"
   ]
  },
  {
   "cell_type": "code",
   "execution_count": 25,
   "metadata": {},
   "outputs": [
    {
     "data": {
      "text/plain": [
       "<matplotlib.contour.QuadContourSet at 0x7ff72ff2cdd0>"
      ]
     },
     "execution_count": 25,
     "metadata": {},
     "output_type": "execute_result"
    },
    {
     "data": {
      "image/png": "[encoded data removed]",
      "text/plain": [
       "<Figure size 432x288 with 1 Axes>"
      ]
     },
     "metadata": {
      "needs_background": "light"
     },
     "output_type": "display_data"
    }
   ],
   "source": [
    "Data.U[:,:,0].plot.contour(xlim=[55,60])"
   ]
  },
  {
   "cell_type": "code",
   "execution_count": null,
   "metadata": {},
   "outputs": [],
   "source": []
  }
 ],
 "metadata": {
  "kernelspec": {
   "display_name": "Python 3",
   "language": "python",
   "name": "python3"
  },
  "language_info": {
   "codemirror_mode": {
    "name": "ipython",
    "version": 3
   },
   "file_extension": ".py",
   "mimetype": "text/x-python",
   "name": "python",
   "nbconvert_exporter": "python",
   "pygments_lexer": "ipython3",
   "version": "3.7.6"
  },
  "latex_envs": {
   "LaTeX_envs_menu_present": true,
   "autoclose": false,
   "autocomplete": true,
   "bibliofile": "biblio.bib",
   "cite_by": "apalike",
   "current_citInitial": 1,
   "eqLabelWithNumbers": true,
   "eqNumInitial": 1,
   "hotkeys": {
    "equation": "Ctrl-E",
    "itemize": "Ctrl-I"
   },
   "labels_anchors": false,
   "latex_user_defs": false,
   "report_style_numbering": false,
   "user_envs_cfg": false
  }
 },
 "nbformat": 4,
 "nbformat_minor": 4
}
